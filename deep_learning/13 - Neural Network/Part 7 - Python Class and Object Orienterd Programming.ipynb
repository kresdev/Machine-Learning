{
 "cells": [
  {
   "cell_type": "code",
   "execution_count": 30,
   "metadata": {},
   "outputs": [],
   "source": [
    "class Manusia:\n",
    "    def __init__(self, warna_rambut, tinggi=172, berat=50):\n",
    "        self.warna_rambut = warna_rambut\n",
    "        self.tinggi = tinggi\n",
    "        self.berat = berat\n",
    "        \n",
    "    def cat_rambutnya(self, warna):\n",
    "        self.warna_rambut = warna\n",
    "        print(f\"Rambutnya jadi warna {warna}\")\n",
    "        \n",
    "    def BMI(self):\n",
    "        return self.berat / self.tinggi ** 2"
   ]
  },
  {
   "cell_type": "code",
   "execution_count": 32,
   "metadata": {},
   "outputs": [],
   "source": [
    "poncos = Manusia(\"hitam\")"
   ]
  },
  {
   "cell_type": "code",
   "execution_count": 23,
   "metadata": {},
   "outputs": [
    {
     "data": {
      "text/plain": [
       "'hitam'"
      ]
     },
     "execution_count": 23,
     "metadata": {},
     "output_type": "execute_result"
    }
   ],
   "source": [
    "poncos.warna_rambut"
   ]
  },
  {
   "cell_type": "code",
   "execution_count": 24,
   "metadata": {},
   "outputs": [
    {
     "data": {
      "text/plain": [
       "172"
      ]
     },
     "execution_count": 24,
     "metadata": {},
     "output_type": "execute_result"
    }
   ],
   "source": [
    "poncos.tinggi"
   ]
  },
  {
   "cell_type": "code",
   "execution_count": 25,
   "metadata": {},
   "outputs": [
    {
     "data": {
      "text/plain": [
       "50"
      ]
     },
     "execution_count": 25,
     "metadata": {},
     "output_type": "execute_result"
    }
   ],
   "source": [
    "poncos.berat"
   ]
  },
  {
   "cell_type": "code",
   "execution_count": 27,
   "metadata": {},
   "outputs": [
    {
     "name": "stdout",
     "output_type": "stream",
     "text": [
      "Rambutnya jadi warna kuning\n"
     ]
    }
   ],
   "source": [
    "poncos.cat_rambutnya(\"kuning\")"
   ]
  },
  {
   "cell_type": "code",
   "execution_count": 28,
   "metadata": {},
   "outputs": [
    {
     "data": {
      "text/plain": [
       "'kuning'"
      ]
     },
     "execution_count": 28,
     "metadata": {},
     "output_type": "execute_result"
    }
   ],
   "source": [
    "poncos.warna_rambut"
   ]
  },
  {
   "cell_type": "code",
   "execution_count": 33,
   "metadata": {},
   "outputs": [
    {
     "data": {
      "text/plain": [
       "0.0016901027582477014"
      ]
     },
     "execution_count": 33,
     "metadata": {},
     "output_type": "execute_result"
    }
   ],
   "source": [
    "poncos.BMI()"
   ]
  },
  {
   "cell_type": "markdown",
   "metadata": {},
   "source": [
    "## Inheritance"
   ]
  },
  {
   "cell_type": "code",
   "execution_count": 41,
   "metadata": {},
   "outputs": [],
   "source": [
    "class Mahasiswa(Manusia):\n",
    "    def __init__(self, warna_rambut, tinggi, berat, univ):\n",
    "        super().__init__(warna_rambut, tinggi, berat)\n",
    "        self.universitas = univ\n",
    "        \n",
    "    def pindah_univ(self, univ_baru):\n",
    "        self.universitas = univ_baru"
   ]
  },
  {
   "cell_type": "code",
   "execution_count": 42,
   "metadata": {},
   "outputs": [],
   "source": [
    "sicopo = Mahasiswa(\"silver\", 150, 55, \"ITB\")"
   ]
  },
  {
   "cell_type": "code",
   "execution_count": 43,
   "metadata": {},
   "outputs": [
    {
     "data": {
      "text/plain": [
       "'ITB'"
      ]
     },
     "execution_count": 43,
     "metadata": {},
     "output_type": "execute_result"
    }
   ],
   "source": [
    "sicopo.universitas"
   ]
  },
  {
   "cell_type": "code",
   "execution_count": 44,
   "metadata": {},
   "outputs": [],
   "source": [
    "sicopo.pindah_univ(\"MIT\")"
   ]
  },
  {
   "cell_type": "code",
   "execution_count": 46,
   "metadata": {},
   "outputs": [
    {
     "data": {
      "text/plain": [
       "'MIT'"
      ]
     },
     "execution_count": 46,
     "metadata": {},
     "output_type": "execute_result"
    }
   ],
   "source": [
    "sicopo.universitas"
   ]
  },
  {
   "cell_type": "markdown",
   "metadata": {},
   "source": [
    "## PyTorch NN Module"
   ]
  },
  {
   "cell_type": "code",
   "execution_count": 47,
   "metadata": {},
   "outputs": [],
   "source": [
    "import torch\n",
    "from torch import nn"
   ]
  },
  {
   "cell_type": "code",
   "execution_count": 61,
   "metadata": {},
   "outputs": [],
   "source": [
    "??nn.Module"
   ]
  },
  {
   "cell_type": "code",
   "execution_count": 53,
   "metadata": {},
   "outputs": [],
   "source": [
    "class CustomNN(nn.Module):\n",
    "    def __init__(self, input_size, output_size):\n",
    "        super().__init__()\n",
    "        self.fc = nn.Sequential(\n",
    "            nn.Linear(input_size, 16),\n",
    "            nn.ReLU(),\n",
    "            nn.Linear(16, 8),\n",
    "            nn.ReLU(),\n",
    "            nn.Linear(8, output_size),\n",
    "            nn.Sigmoid(),\n",
    "        )\n",
    "    \n",
    "    def forward(self, x):\n",
    "        return self.fc(x)\n",
    "        "
   ]
  },
  {
   "cell_type": "code",
   "execution_count": 56,
   "metadata": {},
   "outputs": [],
   "source": [
    "class FaceBiometric(nn.Module):\n",
    "    def __init__(self, input_size, output_size):\n",
    "        super().__init__()\n",
    "        self.fc = nn.Sequential(\n",
    "            nn.Linear(input_size, 16),\n",
    "            nn.ReLU(),\n",
    "        )\n",
    "\n",
    "        self.regresi = nn.Linear(16, 4)\n",
    "        self.clf = nn.Sequential(\n",
    "            nn.Linear(16, 4),\n",
    "            nn.Sigmoid()\n",
    "    )\n",
    "    \n",
    "    def forward(self, x):\n",
    "        x = self.fc(x)\n",
    "        pred_reg = self.reg(x)\n",
    "        pred_reg = self.clf(x)\n",
    "        return pred_reg, pred_clf\n",
    "        "
   ]
  },
  {
   "cell_type": "code",
   "execution_count": 57,
   "metadata": {},
   "outputs": [],
   "source": [
    "model = CustomNN(7, 1)"
   ]
  },
  {
   "cell_type": "code",
   "execution_count": 58,
   "metadata": {},
   "outputs": [],
   "source": [
    "contoh_data = torch.rand(100, 7)"
   ]
  },
  {
   "cell_type": "code",
   "execution_count": 62,
   "metadata": {},
   "outputs": [
    {
     "data": {
      "text/plain": [
       "tensor([[0.4785],\n",
       "        [0.4756],\n",
       "        [0.4706],\n",
       "        [0.4776],\n",
       "        [0.4777],\n",
       "        [0.4761],\n",
       "        [0.4673],\n",
       "        [0.4762],\n",
       "        [0.4813],\n",
       "        [0.4790],\n",
       "        [0.4783],\n",
       "        [0.4770],\n",
       "        [0.4786],\n",
       "        [0.4799],\n",
       "        [0.4768],\n",
       "        [0.4737],\n",
       "        [0.4794],\n",
       "        [0.4736],\n",
       "        [0.4732],\n",
       "        [0.4691],\n",
       "        [0.4803],\n",
       "        [0.4826],\n",
       "        [0.4739],\n",
       "        [0.4775],\n",
       "        [0.4757],\n",
       "        [0.4799],\n",
       "        [0.4786],\n",
       "        [0.4800],\n",
       "        [0.4776],\n",
       "        [0.4797],\n",
       "        [0.4790],\n",
       "        [0.4758],\n",
       "        [0.4736],\n",
       "        [0.4731],\n",
       "        [0.4736],\n",
       "        [0.4767],\n",
       "        [0.4751],\n",
       "        [0.4702],\n",
       "        [0.4766],\n",
       "        [0.4788],\n",
       "        [0.4824],\n",
       "        [0.4821],\n",
       "        [0.4753],\n",
       "        [0.4777],\n",
       "        [0.4700],\n",
       "        [0.4801],\n",
       "        [0.4804],\n",
       "        [0.4808],\n",
       "        [0.4766],\n",
       "        [0.4781],\n",
       "        [0.4720],\n",
       "        [0.4725],\n",
       "        [0.4725],\n",
       "        [0.4761],\n",
       "        [0.4758],\n",
       "        [0.4757],\n",
       "        [0.4830],\n",
       "        [0.4765],\n",
       "        [0.4800],\n",
       "        [0.4738],\n",
       "        [0.4806],\n",
       "        [0.4736],\n",
       "        [0.4818],\n",
       "        [0.4810],\n",
       "        [0.4746],\n",
       "        [0.4805],\n",
       "        [0.4796],\n",
       "        [0.4723],\n",
       "        [0.4750],\n",
       "        [0.4714],\n",
       "        [0.4785],\n",
       "        [0.4814],\n",
       "        [0.4755],\n",
       "        [0.4752],\n",
       "        [0.4784],\n",
       "        [0.4781],\n",
       "        [0.4752],\n",
       "        [0.4801],\n",
       "        [0.4780],\n",
       "        [0.4744],\n",
       "        [0.4770],\n",
       "        [0.4700],\n",
       "        [0.4747],\n",
       "        [0.4785],\n",
       "        [0.4728],\n",
       "        [0.4696],\n",
       "        [0.4815],\n",
       "        [0.4785],\n",
       "        [0.4732],\n",
       "        [0.4755],\n",
       "        [0.4798],\n",
       "        [0.4672],\n",
       "        [0.4771],\n",
       "        [0.4765],\n",
       "        [0.4760],\n",
       "        [0.4742],\n",
       "        [0.4774],\n",
       "        [0.4757],\n",
       "        [0.4799],\n",
       "        [0.4794]], grad_fn=<SigmoidBackward>)"
      ]
     },
     "execution_count": 62,
     "metadata": {},
     "output_type": "execute_result"
    }
   ],
   "source": [
    "output = model.forward(contoh_data)\n",
    "output"
   ]
  },
  {
   "cell_type": "code",
   "execution_count": null,
   "metadata": {},
   "outputs": [],
   "source": []
  }
 ],
 "metadata": {
  "kernelspec": {
   "display_name": "Python [conda env:jcopdl]",
   "language": "python",
   "name": "conda-env-jcopdl-py"
  },
  "language_info": {
   "codemirror_mode": {
    "name": "ipython",
    "version": 3
   },
   "file_extension": ".py",
   "mimetype": "text/x-python",
   "name": "python",
   "nbconvert_exporter": "python",
   "pygments_lexer": "ipython3",
   "version": "3.7.6"
  }
 },
 "nbformat": 4,
 "nbformat_minor": 4
}
