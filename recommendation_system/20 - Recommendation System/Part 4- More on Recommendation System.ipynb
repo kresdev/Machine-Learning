{
 "cells": [
  {
   "cell_type": "markdown",
   "id": "baf90eda",
   "metadata": {},
   "source": [
    "# Hybrid Filtering\n",
    "\n",
    "Idenya adalah mengkombinasikan berbagai macam filter. Misalnya:\n",
    "\n",
    "- demographic:\n",
    " - tidak personalized\n",
    " - hanya preferensi secara global\n",
    " - cocok untuk yang tidak sign in, atau yang baru buat akun\n",
    "\n",
    "- content-based:\n",
    " - semi personalized\n",
    " - preferensi sesuai yang ditonton usernya\n",
    " - cocok supaya rekomndasi terarah sesuai kemiripan konten\n",
    "- collaborative\n",
    " - personalized\n",
    " - akan berbeda tiap orang\n",
    " - memanfaatkan informasi latent dari user lain\n",
    " \n",
    "Misalkan ada `user_id` yang sedah menonton film `movie_id`. Maka kita bisa buat sistem seperti ini:\n",
    "```\n",
    "    def recommendation(user_id, movie_id):\n",
    "        if not_login or user_baru:\n",
    "            # DEMOGRAPHIC\n",
    "        else:\n",
    "            # CONTENT-BASED untuk dapat top 30 paling mirip dengan movie_id secara konten\n",
    "            \n",
    "            # Filter mana dari top 30 yang sudah ditonton (bisa juga berdasarkan kapan terakhir)\n",
    "            \n",
    "            # COLLABORATIVE: Prediksi rating untuk user_id pada top 30 tersebut\n",
    "            # sort, dan rekomendaiskan top 10 rating\n",
    "       return output (top 10)\n",
    "```"
   ]
  },
  {
   "cell_type": "markdown",
   "id": "d01fefc9",
   "metadata": {},
   "source": [
    "# Important Notes\n",
    "\n",
    "- Formula content-based tiap industri dan tiap perusahan pasti berbeda-beda\n",
    "- Bobot yang dipakai berbeda \"jumlah pengguna dan data yang berbeda\"\n",
    "- Namanya juga rekomendasi, <b> tidak ada jawaban pasti <b>"
   ]
  },
  {
   "cell_type": "markdown",
   "id": "968ab7a4",
   "metadata": {},
   "source": [
    "# Human in the loop\n",
    "\n",
    "Teknik ini umum dipakai untuk:\n",
    "- User yang melakukan search di search bar\n",
    "- User yang menyimpang barang tertentu di watchlist atau shopcart\n",
    "- User telah input interest atau follow hashtag tertentu\n",
    "\n",
    "Simply, gunakan info primer dari user, dan rekomendasikan sesuai hal tersebut.\n",
    "\n",
    "Human in the loop juga bisa digunakan `sebagai revisi dari rekomendasi` yang ada.\n",
    "Misalnya ada 10 orang yang search video \"Belajar Machine Learning\" di Youtube, dari Recsysc menghasilkan top 10 apakah berarti orang akan menonton video ranking 1?\n",
    "\n",
    "Misalnya, dengan search yang sama, 10 orang tersebut malah klik video ke 3, kita bisa membuat sebuah fitur baru berupa tag agar video tersebut \"terikat\" dengan search term \"Belajar Machine Learning\", dan next time video peringkat 3 tersebut ada di peringkat pertama.\n",
    "\n",
    "Hal ini bisa dilakukan manual, atau kita serahkan ke mesin berupa ML atau DL"
   ]
  },
  {
   "cell_type": "markdown",
   "id": "17162226",
   "metadata": {},
   "source": [
    "# Deep Recommendation System\n",
    "\n",
    "Contoh system rekomendasi Youtube\n",
    "- Step 1: Generate kandidat untuk direkomendasikan\n",
    " - Fitur: watched videos, searched terms, geografi, umur, gender, dll\n",
    "- Step 2: Ranking/scoring kandidat\n",
    " - Fitur: impression, watched videos, user language, video language, dll"
   ]
  },
  {
   "cell_type": "code",
   "execution_count": null,
   "id": "b910cdf9",
   "metadata": {},
   "outputs": [],
   "source": []
  },
  {
   "cell_type": "code",
   "execution_count": null,
   "id": "b01faef6",
   "metadata": {},
   "outputs": [],
   "source": []
  },
  {
   "cell_type": "code",
   "execution_count": null,
   "id": "79784d00",
   "metadata": {},
   "outputs": [],
   "source": []
  },
  {
   "cell_type": "code",
   "execution_count": null,
   "id": "722f4a09",
   "metadata": {},
   "outputs": [],
   "source": []
  },
  {
   "cell_type": "code",
   "execution_count": null,
   "id": "5c63edbe",
   "metadata": {},
   "outputs": [],
   "source": []
  }
 ],
 "metadata": {
  "kernelspec": {
   "display_name": "Python [conda env:jcop_recsys]",
   "language": "python",
   "name": "conda-env-jcop_recsys-py"
  },
  "language_info": {
   "codemirror_mode": {
    "name": "ipython",
    "version": 3
   },
   "file_extension": ".py",
   "mimetype": "text/x-python",
   "name": "python",
   "nbconvert_exporter": "python",
   "pygments_lexer": "ipython3",
   "version": "3.7.6"
  }
 },
 "nbformat": 4,
 "nbformat_minor": 5
}
